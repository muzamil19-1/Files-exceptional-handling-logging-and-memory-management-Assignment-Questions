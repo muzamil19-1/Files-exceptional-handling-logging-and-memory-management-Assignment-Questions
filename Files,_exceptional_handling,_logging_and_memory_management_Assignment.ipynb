{
  "nbformat": 4,
  "nbformat_minor": 0,
  "metadata": {
    "colab": {
      "provenance": []
    },
    "kernelspec": {
      "name": "python3",
      "display_name": "Python 3"
    },
    "language_info": {
      "name": "python"
    }
  },
  "cells": [
    {
      "cell_type": "markdown",
      "source": [
        "# Files, exceptional handling, logging and memory management"
      ],
      "metadata": {
        "id": "iEEyZqhy31F_"
      }
    },
    {
      "cell_type": "markdown",
      "source": [
        "**1.What is the difference between interpreted and compiled language ?**\n",
        "\n",
        "Ans:-The difference between interpreted and compiled languages lies mainly in how their code is translated into machine language (the code a computer's processor can understand and execute):\n",
        "\n",
        "🧾 1. Compiled Languages\n",
        "Definition: The source code is translated into machine code by a compiler before the program is run.\n",
        "\n",
        "Examples: C, C++, Rust, Go.\n",
        "\n",
        "Process:\n",
        "\n",
        "Write code in source language (e.g., C).\n",
        "\n",
        "Use a compiler to convert the whole program into machine code (a binary file).\n",
        "\n",
        "Run the binary file.\n",
        "\n",
        "Pros:\n",
        "\n",
        "Faster execution (already translated to machine code).\n",
        "\n",
        "Better optimization by the compiler.\n",
        "\n",
        "Cons:\n",
        "\n",
        "Slower to compile.\n",
        "\n",
        "Less flexible for rapid testing or changes (you must recompile after each change).\n",
        "\n",
        "🧾 2. Interpreted Languages\n",
        "\n",
        "Definition: The source code is executed line-by-line by an interpreter at runtime.\n",
        "\n",
        "Examples: Python, JavaScript, Ruby, PHP.\n",
        "\n",
        "Process:\n",
        "\n",
        "Write code in source language (e.g., Python).\n",
        "\n",
        "Run it directly using an interpreter (e.g., Python interpreter).\n",
        "\n",
        "Pros:\n",
        "\n",
        "Easier to test and debug.\n",
        "\n",
        "More flexible (can often run code without recompiling).\n",
        "\n",
        "Cons:\n",
        "\n",
        "Slower execution because it's translated during runtime.\n",
        "\n",
        "More resource-intensive.\n",
        "\n",
        "**2.What is exception handling in Python?**\n",
        "\n",
        "Ans:-Exception handling in Python is a mechanism that allows you to manage and respond to errors that occur during the execution of a program without crashing the entire program.\n",
        "\n",
        "🔹 What is an Exception?\n",
        "\n",
        "An exception is an event that occurs when something goes wrong during execution. For example:\n",
        "\n",
        "Dividing by zero: ZeroDivisionError\n",
        "\n",
        "Accessing a variable that doesn’t exist: NameError\n",
        "\n",
        "Opening a file that doesn’t exist: FileNotFoundError\n",
        "\n",
        "🔹 Basic Syntax of Exception Handling\n",
        "\n",
        "try:\n",
        "    # Code that may raise an exception\n",
        "    x = 10 / 0\n",
        "except ZeroDivisionError:\n",
        "    # Code to handle the exception\n",
        "    print(\"You can't divide by zero!\")\n",
        "\n",
        "🔹 Structure of Exception Handling\n",
        "\n",
        "try:\n",
        "    # Code that might raise an exception\n",
        "except ExceptionType:\n",
        "    # Code that runs if the exception occurs\n",
        "else:\n",
        "    # Code that runs if no exception occurs\n",
        "finally:\n",
        "    # Code that always runs, whether exception occurred or not\n",
        "\n",
        "**3.What is the purpose of the finally block in exception handling?**\n",
        "\n",
        "Ans:-The finally block in Python is used to define code that will always run, regardless of whether an exception occurred or not. It's typically used for clean-up actions, such as closing files, releasing resources, or disconnecting from a network.\n",
        "\n",
        "🔹 Purpose of the finally Block\n",
        "Ensures important code runs no matter what happens.\n",
        "\n",
        "Used to perform clean-up tasks, like:\n",
        "\n",
        "Closing files\n",
        "\n",
        "Releasing locks\n",
        "\n",
        "Disconnecting from databases\n",
        "\n",
        "Freeing up resources\n",
        "\n",
        "🔹 Syntax Example\n",
        "\n",
        "try:\n",
        "    file = open(\"data.txt\", \"r\")\n",
        "    data = file.read()\n",
        "except FileNotFoundError:\n",
        "    print(\"File not found.\")\n",
        "else:\n",
        "    print(\"File read successfully.\")\n",
        "finally:\n",
        "    file.close()  # This runs no matter what\n",
        "    print(\"File closed.\")\n",
        "\n",
        "**4.What is logging in Python?**\n",
        "\n",
        "Ans:-Logging in Python is the process of recording messages that describe events that happen during a program’s execution. It’s useful for:\n",
        "\n",
        "Debugging\n",
        "\n",
        "Monitoring your application\n",
        "\n",
        "Recording errors, warnings, and info messages\n",
        "\n",
        "🔹 Why Use Logging?\n",
        "\n",
        "To track issues without using print statements.\n",
        "\n",
        "To record logs in a file for later review.\n",
        "\n",
        "To categorize messages by severity (e.g., info, warning, error).\n",
        "\n",
        "To maintain logs for production-level code.\n",
        "\n",
        "**5.What is the significance of the __del__ method in Python?**\n",
        "\n",
        "Ans:-The __del__ method in Python is a special method called a destructor. It is automatically called when an object is about to be destroyed (i.e., when it is garbage collected).\n",
        "\n",
        "🔹 Purpose of __del__\n",
        "\n",
        "To define clean-up actions when an object is no longer needed.\n",
        "\n",
        "Useful for releasing external resources like:\n",
        "\n",
        "Closing files or network connections\n",
        "\n",
        "Freeing up memory\n",
        "\n",
        "Disconnecting from a database\n",
        "\n",
        "🔹 Syntax\n",
        "\n",
        "class MyClass:\n",
        "    def __del__(self):\n",
        "        print(\"Destructor called, object is being deleted\")\n",
        "\n",
        "**6.What is the difference between import and from ... import in Python?**\n",
        "\n",
        "Ans:-In Python, both import and from ... import are used to bring in code from other modules, but they work a bit differently in how they give you access to that code.\n",
        "\n",
        "🔹 import Statement\n",
        "\n",
        "import math\n",
        "print(math.sqrt(16))\n",
        "\n",
        "Brings in the whole module.\n",
        "\n",
        "You access functions or variables using the module name as a prefix (math.sqrt).\n",
        "\n",
        "Useful when you want to make it clear where functions come from, or avoid name conflicts.\n",
        "\n",
        "🔹 from ... import Statement\n",
        "\n",
        "from math import sqrt\n",
        "print(sqrt(16))\n",
        "\n",
        "Imports only specific parts (functions, classes, variables) from a module.\n",
        "\n",
        "You don’t need to use the module name as a prefix (sqrt directly).\n",
        "\n",
        "Useful when you need just a few things and want cleaner code.\n",
        "\n",
        "**7.How can you handle multiple exceptions in Python?**\n",
        "\n",
        "Ans:-🔹 1. Multiple except blocks (Best Practice)\n",
        "\n",
        "Handle different exceptions separately using multiple except clauses:\n",
        "\n",
        "\n",
        "try:\n",
        "    x = int(input(\"Enter a number: \"))\n",
        "    y = 10 / x\n",
        "except ValueError:\n",
        "    print(\"Invalid input! Please enter a number.\")\n",
        "except ZeroDivisionError:\n",
        "    print(\"You can't divide by zero.\")\n",
        "\n",
        "✅ This is clear and lets you give different responses to different errors.\n",
        "\n",
        "🔹 2. Single except block with multiple exceptions (Tuple form)\n",
        "Catch more than one exception in a single line:\n",
        "\n",
        "\n",
        "try:\n",
        "    x = int(input(\"Enter a number: \"))\n",
        "    y = 10 / x\n",
        "\n",
        "except (ValueError, ZeroDivisionError) as e:\n",
        "    print(f\"An error occurred: {e}\")\n",
        "\n",
        "✅ Useful when multiple errors should be handled the same way.\n",
        "\n",
        "🔹 3. Catch all exceptions (Not always recommended)\n",
        "\n",
        "try:\n",
        "    # some code\n",
        "except Exception as e:\n",
        "\n",
        "    print(f\"Unexpected error: {e}\")\n",
        "⚠️ This catches any exception, which can be dangerous if overused — it can hide bugs. Use it only when necessary, like in logging or fallback scenarios.\n",
        "\n",
        "🧠 Bonus: Use else and finally\n",
        "\n",
        "try:\n",
        "    x = int(input(\"Enter a number: \"))\n",
        "    y = 10 / x\n",
        "except (ValueError, ZeroDivisionError) as e:\n",
        "    print(f\"Error: {e}\")\n",
        "else:\n",
        "    print(f\"Result is {y}\")\n",
        "finally:\n",
        "    print(\"Done!\")\n",
        "else: Runs if no exceptions occur.\n",
        "\n",
        "finally: Runs no matter what.\n",
        "\n",
        "**8.What is the purpose of the with statement when handling files in Python?**\n",
        "\n",
        "Ans:-The with statement in Python is used to simplify file handling and ensure that resources like files are properly managed—especially that they are automatically closed, even if an error occurs.\n",
        "\n",
        "🔹 Purpose of the with Statement\n",
        "Automatically closes the file when you're done with it.\n",
        "\n",
        "Prevents resource leaks (e.g. files left open).\n",
        "\n",
        "Makes code cleaner and easier to read.\n",
        "\n",
        "It uses a context manager internally.\n",
        "\n",
        "**9.What is the difference between multithreading and multiprocessing?**\n",
        "\n",
        "Ans:- Both multithreading and multiprocessing are ways to achieve concurrent execution in Python, but they differ in how they work and their use cases.\n",
        "\n",
        "🔹 Multithreading\n",
        "\n",
        "Uses multiple threads within a single process.\n",
        "\n",
        "Threads share the same memory space.\n",
        "\n",
        "Good for I/O-bound tasks (e.g., reading files, network operations).\n",
        "\n",
        "Limited by Python’s Global Interpreter Lock (GIL) — only one thread executes Python bytecode at a time.\n",
        "\n",
        "Lightweight and faster to create than processes.\n",
        "\n",
        "🔹 Multiprocessing\n",
        "\n",
        "Uses multiple processes, each with its own memory space.\n",
        "\n",
        "Processes run fully in parallel on multiple CPU cores.\n",
        "\n",
        "Good for CPU-bound tasks (e.g., heavy computations).\n",
        "\n",
        "More memory overhead than threads because each process is separate.\n",
        "\n",
        "Avoids GIL limitations — true parallelism.\n",
        "\n",
        "**10.What are the advantages of using logging in a program?**\n",
        "\n",
        "Ans:-Logging brings a lot of benefits to your programs. Here are the main advantages of using logging:\n",
        "\n",
        "🔹 1. Better Debugging and Troubleshooting\n",
        "Logs provide detailed info about program execution.\n",
        "\n",
        "Helps trace errors and understand what happened before a crash.\n",
        "\n",
        "Easier to find root causes than using just print statements.\n",
        "\n",
        "🔹 2. Record of Application Behavior\n",
        "Keeps a permanent record of events.\n",
        "\n",
        "Useful for audits, monitoring, and historical analysis.\n",
        "\n",
        "You can review logs to see how the app performed over time.\n",
        "\n",
        "🔹 3. Different Levels of Severity\n",
        "Logs can be categorized as DEBUG, INFO, WARNING, ERROR, CRITICAL.\n",
        "\n",
        "You can filter and focus on specific types of messages.\n",
        "\n",
        "Helps prioritize issues and monitor important events.\n",
        "\n",
        "🔹 4. Configurable Output\n",
        "Logs can be written to files, consoles, or remote servers.\n",
        "\n",
        "Format can include timestamps, module names, line numbers.\n",
        "\n",
        "Makes logs structured and easy to analyze.\n",
        "\n",
        "🔹 5. Improved Maintenance and Support\n",
        "Developers and support teams can understand system issues better.\n",
        "\n",
        "Logs help detect bugs early, improving software quality.\n",
        "\n",
        "Facilitates collaboration by sharing logs with team members.\n",
        "\n",
        "🔹 6. Non-intrusive and Flexible\n",
        "Unlike print statements, logging can be turned on/off or set to different levels without changing code.\n",
        "\n",
        "You can keep logging calls in production code safely.\n",
        "\n",
        "**11.What is memory management in Python?**\n",
        "\n",
        "Ans:-Memory management in Python refers to the process of efficiently allocating, using, and freeing memory during the execution of a Python program.\n",
        "\n",
        "🔹 What is Memory Management?\n",
        "\n",
        "It ensures that memory is allocated for objects when needed.\n",
        "\n",
        "It reclaims memory that is no longer in use (freeing it).\n",
        "\n",
        "Helps avoid memory leaks and optimize program performance.\n",
        "\n",
        "🔹 How Python Manages Memory\n",
        "\n",
        "Automatic memory management\n",
        "\n",
        "Python handles memory allocation and deallocation automatically, so you usually don’t need to manage it manually.\n",
        "\n",
        "Reference counting\n",
        "\n",
        "Every object in Python has a reference count — the number of references pointing to it. When the count reaches zero (no references), memory is freed.\n",
        "\n",
        "Garbage collection (GC)\n",
        "\n",
        "Python has a built-in garbage collector to detect and clean up circular references (objects referencing each other but no longer accessible from the program).\n",
        "\n",
        "**12.What are the basic steps involved in exception handling in Python?**\n",
        "\n",
        "Ans:-The basic steps involved in exception handling in Python are:\n",
        "\n",
        "1. Write the code that might raise an exception inside a try block\n",
        "\n",
        "try:\n",
        "    # code that may cause an error\n",
        "    x = 10 / 0\n",
        "2. Catch and handle specific exceptions using one or more except blocks\n",
        "\n",
        "except ZeroDivisionError:\n",
        "    print(\"Cannot divide by zero!\")\n",
        "\n",
        "3. (Optional) Use an else block for code that should run if no exceptions occur\n",
        "\n",
        "else:\n",
        "    print(\"Division successful!\")\n",
        "\n",
        "4. (Optional) Use a finally block for code that should always run\n",
        "\n",
        "This block runs whether an exception occurred or not. It’s useful for clean-up.\n",
        "\n",
        "\n",
        "finally:\n",
        "    print(\"This always executes\")\n",
        "\n",
        "Putting it all together:\n",
        "\n",
        "try:\n",
        "    x = int(input(\"Enter a number: \"))\n",
        "    result = 10 / x\n",
        "except ZeroDivisionError:\n",
        "    print(\"Cannot divide by zero!\")\n",
        "except ValueError:\n",
        "    print(\"Invalid input! Please enter a number.\")\n",
        "else:\n",
        "    print(\"Result is:\", result)\n",
        "finally:\n",
        "    print(\"Execution complete.\")\n",
        "\n",
        "**13.Why is memory management important in Python?**\n",
        "\n",
        "Ans:-Memory management is important in Python (and in programming in general) because it ensures that your program uses system resources efficiently, safely, and reliably. Here’s why it matters specifically in Python:\n",
        "\n",
        "🔹 Reasons Why Memory Management is Important in Python\n",
        "\n",
        "Prevents Memory Leaks\n",
        "\n",
        "Automatically freeing unused objects avoids running out of memory.\n",
        "\n",
        "Memory leaks happen if unused objects aren’t properly released, which can slow down or crash programs.\n",
        "\n",
        "Optimizes Performance\n",
        "\n",
        "Efficient memory allocation and reuse improves the speed of your program.\n",
        "\n",
        "Python’s memory pools and garbage collection help minimize overhead.\n",
        "\n",
        "Simplifies Development\n",
        "\n",
        "Python’s automatic memory management means developers don’t have to manually allocate or free memory.\n",
        "\n",
        "Reduces the chance of programmer errors like dangling pointers or double frees.\n",
        "\n",
        "Manages Complex Data Structures\n",
        "\n",
        "Python programs often create many objects (lists, dicts, classes).\n",
        "\n",
        "Proper management ensures these objects don’t consume memory unnecessarily.\n",
        "\n",
        "Enables Safe Multitasking\n",
        "\n",
        "Managing memory correctly allows multiple parts of a program to run safely without corrupting data.\n",
        "\n",
        "**14.What is the role of try and except in exception handling?**\n",
        "\n",
        "Ans:-The try and except blocks are the core parts of exception handling in Python. Here’s their role:\n",
        "\n",
        "🔹 try Block\n",
        "\n",
        "You put code that might raise an exception inside the try block.\n",
        "\n",
        "Python runs this code normally but monitors for exceptions (errors).\n",
        "\n",
        "🔹 except Block\n",
        "\n",
        "If an exception occurs inside the try block, Python looks for a matching except block to handle that error.\n",
        "\n",
        "The code inside the except block runs to respond to or recover from the error.\n",
        "\n",
        "You can specify which exception to catch (like ValueError, ZeroDivisionError), or catch all exceptions.\n",
        "\n",
        "**15.How does Python's garbage collection system work?**\n",
        "\n",
        "Ans:-Python’s garbage collection (GC) system automatically manages memory by freeing objects that are no longer needed, helping prevent memory leaks. Here’s how it works:\n",
        "\n",
        "🔹 Key Components of Python's Garbage Collection\n",
        "\n",
        "Reference Counting (Primary Mechanism)\n",
        "\n",
        "Every Python object keeps a count of how many references point to it.\n",
        "\n",
        "When an object’s reference count drops to zero (no references), Python immediately deallocates it.\n",
        "\n",
        "Garbage Collector for Cycles\n",
        "\n",
        "Reference counting alone can’t handle reference cycles (objects referencing each other but no longer accessible).\n",
        "\n",
        "Python’s GC module detects and collects these circular references using a cyclic garbage collector.\n",
        "\n",
        "**16.What is the purpose of the else block in exception handling?**\n",
        "\n",
        "Ans:-The else block in Python exception handling is an optional block that runs only if the try block did not raise any exceptions.\n",
        "\n",
        "🔹 Purpose of the else Block\n",
        "To execute code that should run only when no exceptions occur in the try block.\n",
        "\n",
        "Keeps the normal flow of code separate from error-handling code.\n",
        "\n",
        "Improves code readability by clarifying what runs if everything goes well.\n",
        "\n",
        "🔹 How It Works\n",
        "\n",
        "try:\n",
        "    x = int(input(\"Enter a number: \"))\n",
        "    result = 10 / x\n",
        "except ZeroDivisionError:\n",
        "    print(\"Cannot divide by zero!\")\n",
        "except ValueError:\n",
        "    print(\"Invalid input!\")\n",
        "else:\n",
        "    print(\"Division successful! Result is:\", result)\n",
        "\n",
        "If no exceptions happen in the try block, the else block executes.\n",
        "\n",
        "If an exception is caught, the else block is skipped.\n",
        "\n",
        "**17.What are the common logging levels in Python?**\n",
        "\n",
        "Ans:-DEBUG: For detailed info useful when fixing problems.\n",
        "\n",
        "INFO: To say things are working normally.\n",
        "\n",
        "WARNING: To warn about something unexpected but not breaking.\n",
        "\n",
        "ERROR: When something goes wrong and a function can’t work.\n",
        "\n",
        "CRITICAL: For very serious problems that might stop the program.\n",
        "\n",
        "**18.What is the difference between os.fork() and multiprocessing in Python?**\n",
        "\n",
        "Ans:-Here’s a simple difference between os.fork() and the multiprocessing module in Python:\n",
        "\n",
        "**os.fork()**\n",
        "\n",
        "Creates a child process by duplicating the current process.\n",
        "\n",
        "Available only on Unix/Linux systems (not on Windows).\n",
        "\n",
        "Gives you a low-level way to create processes.\n",
        "\n",
        "The child process is an almost exact copy of the parent.\n",
        "\n",
        "You have to manage inter-process communication and synchronization yourself.\n",
        "\n",
        "More manual control but more complex to use.\n",
        "\n",
        "**multiprocessing Module**\n",
        "\n",
        "A high-level module for creating and managing processes.\n",
        "\n",
        "Works on both Unix/Linux and Windows.\n",
        "\n",
        "Provides easy-to-use APIs like Process, Pool, Queue, etc.\n",
        "\n",
        "Handles process creation, communication, and synchronization for you.\n",
        "\n",
        "Safer and more convenient for most use cases.\n",
        "\n",
        "**19.What is the importance of closing a file in Python?**\n",
        "\n",
        "Ans:-Closing a file in Python is important because:\n",
        "\n",
        "It frees up system resources (like memory and file handles) tied to the file.\n",
        "\n",
        "Ensures all data is properly written (flushed) to disk.\n",
        "\n",
        "Prevents data corruption or loss by making sure writes are complete.\n",
        "\n",
        "Allows other programs or processes to access the file safely.\n",
        "\n",
        "Helps avoid hitting limits on how many files your program or OS can open at once.\n",
        "\n",
        "**20.What is the difference between file.read() and file.readline() in Python?**\n",
        "\n",
        "Ans:-Here’s the difference between file.read() and file.readline() in Python:\n",
        "\n",
        "file.read()\n",
        "\n",
        "Reads the entire content of the file (or a specified number of characters if given).\n",
        "Returns a string with all data at once.\n",
        "\n",
        "file.readline()\n",
        "\n",
        "Reads one line at a time from the file each time it’s called.\n",
        "\n",
        "Returns a single line as a string, including the newline character \\n.\n",
        "\n",
        "**21.What is the logging module in Python used for?**\n",
        "\n",
        "Ans:-The logging module in Python is used for recording messages from your program. It helps you:\n",
        "\n",
        "Track events that happen during execution (like errors, warnings, info).\n",
        "\n",
        "Debug and troubleshoot your code by keeping a record of what happened.\n",
        "\n",
        "Save logs to files, consoles, or other places for later analysis.\n",
        "\n",
        "Categorize messages by severity (DEBUG, INFO, WARNING, ERROR, CRITICAL).\n",
        "\n",
        "Control how much detail you want to see by setting logging levels.\n",
        "\n",
        "It’s a powerful and flexible way to monitor your program’s behavior.\n",
        "\n",
        "**22.What is the os module in Python used for in file handling?**\n",
        "\n",
        "Ans:-The os module in Python is used to interact with the operating system, especially for file and directory handling. In file handling, it helps you:\n",
        "\n",
        "🔹 Common Uses of os Module in File Handling:\n",
        "\n",
        "Check if a file or directory exists\n",
        "\n",
        "os.path.exists(\"file.txt\")\n",
        "\n",
        "Create a new directory\n",
        "\n",
        "os.mkdir(\"new_folder\")\n",
        "\n",
        "Rename a file or directory\n",
        "\n",
        "os.rename(\"old.txt\", \"new.txt\")\n",
        "\n",
        "Delete a file\n",
        "\n",
        "os.remove(\"file.txt\")\n",
        "\n",
        "List files in a directory\n",
        "\n",
        "os.listdir(\"folder_name\")\n",
        "\n",
        "Get the current working directory\n",
        "\n",
        "os.getcwd()\n",
        "\n",
        "Change the current working directory\n",
        "\n",
        "\n",
        "os.chdir(\"path/to/folder\")\n",
        "\n",
        "**23.What are the challenges associated with memory management in Python?**\n",
        "\n",
        "Ans:-Here are some common challenges associated with memory management in Python:\n",
        "\n",
        "🔹 1. Circular References\n",
        "\n",
        "When two or more objects reference each other, they can create a cycle.\n",
        "\n",
        "Python’s reference counting can’t clean them up, so the garbage collector must detect and handle them.\n",
        "\n",
        "Can cause memory leaks if not managed properly.\n",
        "\n",
        "🔹 2. Memory Leaks\n",
        "\n",
        "Occur when objects are no longer needed but still referenced.\n",
        "\n",
        "Common in long-running programs where unused objects keep building up.\n",
        "\n",
        "🔹 3. Large Objects and Data Structures\n",
        "\n",
        "Handling large lists, dictionaries, or files can consume a lot of memory.\n",
        "\n",
        "May lead to slow performance or Out of Memory (OOM) errors if not optimized.\n",
        "\n",
        "🔹 4. Global Variables\n",
        "\n",
        "Overuse of global variables can keep objects in memory longer than needed.\n",
        "\n",
        "🔹 5. Misuse of C Extensions or Libraries\n",
        "\n",
        "Some external modules (especially in C) may allocate memory outside of Python’s control.\n",
        "\n",
        "Python can’t track or clean this memory automatically.\n",
        "\n",
        "🔹 6. Frequent Object Creation\n",
        "\n",
        "Creating too many temporary objects can increase memory usage.\n",
        "\n",
        "This can affect performance due to frequent garbage collection.\n",
        "\n",
        "🔹 7. Delayed Garbage Collection\n",
        "\n",
        "The garbage collector doesn’t always run immediately.\n",
        "\n",
        "This can temporarily cause high memory usage if many objects build up.\n",
        "\n",
        "**24.How do you raise an exception manually in Python?**\n",
        "\n",
        "Ans:- we can raise an exception manually in Python using the raise keyword.\n",
        "\n",
        "🔹 Syntax:\n",
        "\n",
        "raise ExceptionType(\"Custom error message\")\n",
        "\n",
        "🔹 Example 1: Raise a built-in exception\n",
        "\n",
        "x = -5\n",
        "if x < 0:\n",
        "    raise ValueError(\"x cannot be negative\")\n",
        "\n",
        "🔹 Example 2: Raise a custom exception\n",
        "\n",
        "class MyError(Exception):\n",
        "    pass\n",
        "\n",
        "raise MyError(\"This is a custom exception\")\n",
        "\n",
        "🔹 Why use raise?\n",
        "\n",
        "To stop execution when something unexpected happens.\n",
        "\n",
        "To enforce rules (e.g., input validation).\n",
        "\n",
        "To signal errors clearly in your code.\n",
        "\n",
        "**25.Why is it important to use multithreading in certain applications?**\n",
        "\n",
        "Ans:-Multithreading is important in certain applications because it helps improve performance, responsiveness, and efficiency. Here’s why:\n",
        "\n",
        "🔹 1. Improves Responsiveness\n",
        "Keeps programs responsive (e.g., in GUIs or web servers) while performing background tasks like downloading or processing data.\n",
        "\n",
        "🔹 2. Better Resource Utilization\n",
        "Efficiently uses CPU time by allowing one thread to run while another waits (e.g., for I/O operations).\n",
        "\n",
        "🔹 3. Parallel Execution\n",
        "Enables tasks that can run in parallel (e.g., handling multiple users or requests at once) to execute simultaneously.\n",
        "\n",
        "🔹 4. Faster I/O-bound Tasks\n",
        "For programs that do a lot of I/O (like reading files, web scraping, or network communication), multithreading helps overlap waiting time and speed things up.\n",
        "\n",
        "🔹 5. Simplifies Program Structure\n",
        "Breaks down complex tasks into smaller, independent threads that are easier to manage and debug.\n",
        "\n",
        "\n"
      ],
      "metadata": {
        "id": "INmNSH7ioWQn"
      }
    },
    {
      "cell_type": "markdown",
      "source": [
        "# Practicle Questions"
      ],
      "metadata": {
        "id": "MjFJfBVt3uZ2"
      }
    },
    {
      "cell_type": "markdown",
      "source": [
        "**1.How can you open a file for writing in Python and write a string to it?**"
      ],
      "metadata": {
        "id": "T0OEOzRRrF85"
      }
    },
    {
      "cell_type": "code",
      "source": [
        "# Open the file for writing (this will create the file if it doesn't exist, or overwrite it if it does)\n",
        "with open('example.txt', 'w') as file:\n",
        "    # Write a string to the file\n",
        "    file.write(\"Hello, this is a line of text.\")\n"
      ],
      "metadata": {
        "id": "3pasFJAkx5yG"
      },
      "execution_count": null,
      "outputs": []
    },
    {
      "cell_type": "markdown",
      "source": [
        "**2.Write a Python program to read the contents of a file and print each line**"
      ],
      "metadata": {
        "id": "MrVEMuCxrhBr"
      }
    },
    {
      "cell_type": "code",
      "source": [
        "# Open the file for reading\n",
        "with open('example.txt', 'r') as file:\n",
        "    # Read and print each line\n",
        "    for line in file:\n",
        "        print(line.strip())  # .strip() removes the newline character at the end\n"
      ],
      "metadata": {
        "id": "FpWaMHturpnl"
      },
      "execution_count": 1,
      "outputs": []
    },
    {
      "cell_type": "markdown",
      "source": [
        "**3.How would you handle a case where the file doesn't exist while trying to open it for reading.**"
      ],
      "metadata": {
        "id": "2Z2hUyvgr5vS"
      }
    },
    {
      "cell_type": "code",
      "source": [
        "try:\n",
        "    with open('example.txt', 'r') as file:\n",
        "        for line in file:\n",
        "            print(line.strip())\n",
        "except FileNotFoundError:\n",
        "    print(\"The file does not exist. Please check the filename and try again.\")\n"
      ],
      "metadata": {
        "id": "hoUQcMRnrxpG"
      },
      "execution_count": null,
      "outputs": []
    },
    {
      "cell_type": "markdown",
      "source": [
        "**4.Write a Python script that reads from one file and writes its content to another file.**"
      ],
      "metadata": {
        "id": "JS-ee5WZsJsF"
      }
    },
    {
      "cell_type": "code",
      "source": [
        "# Define source and destination file paths\n",
        "source_file = 'source.txt'\n",
        "destination_file = 'destination.txt'\n",
        "\n",
        "try:\n",
        "    # Open the source file for reading\n",
        "    with open(source_file, 'r') as src:\n",
        "        # Read all content from the source file\n",
        "        content = src.read()\n",
        "\n",
        "    # Open the destination file for writing\n",
        "    with open(destination_file, 'w') as dest:\n",
        "        # Write the content to the destination file\n",
        "        dest.write(content)\n",
        "\n",
        "    print(f\"Contents copied from '{source_file}' to '{destination_file}' successfully.\")\n",
        "\n",
        "except FileNotFoundError:\n",
        "    print(f\"The file '{source_file}' was not found. Please check the filename and try again.\")\n"
      ],
      "metadata": {
        "colab": {
          "base_uri": "https://localhost:8080/"
        },
        "id": "71K56uWSsOwd",
        "outputId": "85fc3461-c45d-465b-d508-e107585586c7"
      },
      "execution_count": 3,
      "outputs": [
        {
          "output_type": "stream",
          "name": "stdout",
          "text": [
            "The file 'source.txt' was not found. Please check the filename and try again.\n"
          ]
        }
      ]
    },
    {
      "cell_type": "markdown",
      "source": [
        "**5.How would you catch and handle division by zero error in Python?**"
      ],
      "metadata": {
        "id": "jn-wOXpFsXiJ"
      }
    },
    {
      "cell_type": "code",
      "source": [
        "try:\n",
        "    numerator = 10\n",
        "    denominator = 0\n",
        "    result = numerator / denominator\n",
        "    print(\"Result:\", result)\n",
        "except ZeroDivisionError:\n",
        "    print(\"Error: Cannot divide by zero.\")\n"
      ],
      "metadata": {
        "colab": {
          "base_uri": "https://localhost:8080/"
        },
        "id": "gCsFe3sFseNc",
        "outputId": "08ffa339-80b0-4e9b-e496-4b4720b387f7"
      },
      "execution_count": 2,
      "outputs": [
        {
          "output_type": "stream",
          "name": "stdout",
          "text": [
            "Error: Cannot divide by zero.\n"
          ]
        }
      ]
    },
    {
      "cell_type": "markdown",
      "source": [
        "**6.Write a Python program that logs an error message to a log file when a division by zero exception occurs?**"
      ],
      "metadata": {
        "id": "A4JHzSzBsp3A"
      }
    },
    {
      "cell_type": "code",
      "source": [
        "import logging\n",
        "\n",
        "# Configure logging to write to a file\n",
        "logging.basicConfig(filename='error_log.txt', level=logging.ERROR,\n",
        "                    format='%(asctime)s - %(levelname)s - %(message)s')\n",
        "\n",
        "try:\n",
        "    numerator = 10\n",
        "    denominator = 0\n",
        "    result = numerator / denominator\n",
        "    print(\"Result:\", result)\n",
        "except ZeroDivisionError as e:\n",
        "    logging.error(\"Division by zero attempted. Details: %s\", e)\n",
        "    print(\"An error occurred. Check the log file for details.\")\n"
      ],
      "metadata": {
        "colab": {
          "base_uri": "https://localhost:8080/"
        },
        "id": "pAd-WV_rsj31",
        "outputId": "4e318b4c-d28f-4648-8e01-a40e1d626f96"
      },
      "execution_count": 4,
      "outputs": [
        {
          "output_type": "stream",
          "name": "stderr",
          "text": [
            "ERROR:root:Division by zero attempted. Details: division by zero\n"
          ]
        },
        {
          "output_type": "stream",
          "name": "stdout",
          "text": [
            "An error occurred. Check the log file for details.\n"
          ]
        }
      ]
    },
    {
      "cell_type": "markdown",
      "source": [
        "**7.How do you log information at different levels (INFO, ERROR, WARNING) in Python using the logging module?**"
      ],
      "metadata": {
        "id": "ylQTdPHXtCzr"
      }
    },
    {
      "cell_type": "code",
      "source": [
        "import logging\n",
        "\n",
        "# Configure logging\n",
        "logging.basicConfig(filename='app.log', level=logging.DEBUG,\n",
        "                    format='%(asctime)s - %(levelname)s - %(message)s')\n",
        "\n",
        "# Log messages at different levels\n",
        "logging.debug(\"This is a DEBUG message for detailed diagnostic info.\")\n",
        "logging.info(\"This is an INFO message indicating normal operation.\")\n",
        "logging.warning(\"This is a WARNING message for something unexpected.\")\n",
        "logging.error(\"This is an ERROR message indicating a failure.\")\n",
        "logging.critical(\"This is a CRITICAL message for a serious error.\")\n"
      ],
      "metadata": {
        "colab": {
          "base_uri": "https://localhost:8080/"
        },
        "id": "E8v1hzmxtCbP",
        "outputId": "8bc843a0-a2de-452e-ba17-864c24c4cf97"
      },
      "execution_count": 5,
      "outputs": [
        {
          "output_type": "stream",
          "name": "stderr",
          "text": [
            "WARNING:root:This is a WARNING message for something unexpected.\n",
            "ERROR:root:This is an ERROR message indicating a failure.\n",
            "CRITICAL:root:This is a CRITICAL message for a serious error.\n"
          ]
        }
      ]
    },
    {
      "cell_type": "markdown",
      "source": [
        "**8.Write a program to handle a file opening error using exception handling.**"
      ],
      "metadata": {
        "id": "HKAM3ypCtajV"
      }
    },
    {
      "cell_type": "code",
      "source": [
        "# Program to handle file opening error using exception handling\n",
        "\n",
        "filename = 'non_existent_file.txt'  # A file that doesn't exist\n",
        "\n",
        "try:\n",
        "    # Attempt to open the file\n",
        "    with open(filename, 'r') as file:\n",
        "        content = file.read()\n",
        "        print(content)\n",
        "\n",
        "except FileNotFoundError:\n",
        "    print(f\"Error: The file '{filename}' was not found.\")\n",
        "\n",
        "except IOError as e:\n",
        "    print(f\"An I/O error occurred: {e}\")\n"
      ],
      "metadata": {
        "colab": {
          "base_uri": "https://localhost:8080/"
        },
        "id": "wpgmjLOfs3Hj",
        "outputId": "1845c796-cfec-4dab-bc99-e0b5ca73bdba"
      },
      "execution_count": 7,
      "outputs": [
        {
          "output_type": "stream",
          "name": "stdout",
          "text": [
            "Error: The file 'non_existent_file.txt' was not found.\n"
          ]
        }
      ]
    },
    {
      "cell_type": "markdown",
      "source": [
        "**9.How can you read a file line by line and store its content in a list in Python?**"
      ],
      "metadata": {
        "id": "RaKYDTy2tk3H"
      }
    },
    {
      "cell_type": "code",
      "source": [
        "# Open the file for reading\n",
        "with open('example.txt', 'r') as file:\n",
        "    # Read lines and store in a list\n",
        "    lines = [line.strip() for line in file]\n",
        "\n",
        "# Print the list of lines\n",
        "print(lines)\n"
      ],
      "metadata": {
        "id": "pevRqsV9t7nL"
      },
      "execution_count": null,
      "outputs": []
    },
    {
      "cell_type": "markdown",
      "source": [
        "**10.How can you append data to an existing file in Python?**"
      ],
      "metadata": {
        "id": "NTVw9iinuAmS"
      }
    },
    {
      "cell_type": "code",
      "source": [
        "# Open the file in append mode\n",
        "with open('example.txt', 'a') as file:\n",
        "    # Write data to the end of the file\n",
        "    file.write(\"This is a new line being appended.\\n\")\n"
      ],
      "metadata": {
        "id": "C3GmZjTpuGdT"
      },
      "execution_count": null,
      "outputs": []
    },
    {
      "cell_type": "markdown",
      "source": [
        "**11.Write a Python program that uses a try-except block to handle an error when attempting to access a dictionary key that doesn't exist.**"
      ],
      "metadata": {
        "id": "I8kRhmZpuOi3"
      }
    },
    {
      "cell_type": "code",
      "source": [
        "my_dict = {'name': 'Alice', 'age': 25}\n",
        "\n",
        "try:\n",
        "    # Attempt to access a key that may not exist\n",
        "    value = my_dict['address']\n",
        "    print(\"Address:\", value)\n",
        "except KeyError:\n",
        "    print(\"Error: The key 'address' does not exist in the dictionary.\")\n"
      ],
      "metadata": {
        "colab": {
          "base_uri": "https://localhost:8080/"
        },
        "id": "vyTw5sjUuW_6",
        "outputId": "1e209b05-d9f4-4786-e79f-4ef3ab79c872"
      },
      "execution_count": 9,
      "outputs": [
        {
          "output_type": "stream",
          "name": "stdout",
          "text": [
            "Error: The key 'address' does not exist in the dictionary.\n"
          ]
        }
      ]
    },
    {
      "cell_type": "markdown",
      "source": [
        "**12.Write a program that demonstrates using multiple except blocks to handle different types of exceptions.**"
      ],
      "metadata": {
        "id": "9xnQT28Lunor"
      }
    },
    {
      "cell_type": "code",
      "source": [
        "try:\n",
        "    num1 = int(input(\"Enter the numerator: \"))\n",
        "    num2 = int(input(\"Enter the denominator: \"))\n",
        "    result = num1 / num2\n",
        "    print(\"Result:\", result)\n",
        "\n",
        "except ZeroDivisionError:\n",
        "    print(\"Error: Cannot divide by zero.\")\n",
        "\n",
        "except ValueError:\n",
        "    print(\"Error: Please enter valid integers.\")\n",
        "\n",
        "except Exception as e:\n",
        "    print(f\"An unexpected error occurred: {e}\")\n"
      ],
      "metadata": {
        "colab": {
          "base_uri": "https://localhost:8080/"
        },
        "id": "A_1pgoKTua_V",
        "outputId": "f7411e81-d702-4437-ca11-9153c58e57d3"
      },
      "execution_count": 12,
      "outputs": [
        {
          "output_type": "stream",
          "name": "stdout",
          "text": [
            "Enter the numerator: 6\n",
            "Enter the denominator: 0\n",
            "Error: Cannot divide by zero.\n"
          ]
        }
      ]
    },
    {
      "cell_type": "markdown",
      "source": [
        "**13.How would you check if a file exists before attempting to read it in Python?**"
      ],
      "metadata": {
        "id": "rCSZhp0Nu6Xl"
      }
    },
    {
      "cell_type": "code",
      "source": [
        "import os\n",
        "\n",
        "filename = 'example.txt'\n",
        "\n",
        "if os.path.exists(filename):\n",
        "    with open(filename, 'r') as file:\n",
        "        content = file.read()\n",
        "        print(content)\n",
        "else:\n",
        "    print(f\"The file '{filename}' does not exist.\")\n"
      ],
      "metadata": {
        "colab": {
          "base_uri": "https://localhost:8080/"
        },
        "id": "NPaJ9WusukQz",
        "outputId": "b059f1e8-49b7-4319-bee5-87d137d50449"
      },
      "execution_count": 13,
      "outputs": [
        {
          "output_type": "stream",
          "name": "stdout",
          "text": [
            "The file 'example.txt' does not exist.\n"
          ]
        }
      ]
    },
    {
      "cell_type": "markdown",
      "source": [
        "**14.Write a program that uses the logging module to log both informational and error messages.**"
      ],
      "metadata": {
        "id": "A3nV6IAovHPr"
      }
    },
    {
      "cell_type": "code",
      "source": [
        "import logging\n",
        "\n",
        "# Configure logging: write to a file with INFO level and above\n",
        "logging.basicConfig(filename='app.log',\n",
        "                    level=logging.INFO,\n",
        "                    format='%(asctime)s - %(levelname)s - %(message)s')\n",
        "\n",
        "# Log an informational message\n",
        "logging.info(\"Program started successfully.\")\n",
        "\n",
        "try:\n",
        "    x = 10\n",
        "    y = 0\n",
        "    result = x / y\n",
        "    logging.info(f\"Division successful, result: {result}\")\n",
        "except ZeroDivisionError:\n",
        "    logging.error(\"Error: Division by zero attempted.\")\n",
        "\n",
        "logging.info(\"Program ended.\")\n"
      ],
      "metadata": {
        "colab": {
          "base_uri": "https://localhost:8080/"
        },
        "id": "v5LxZM3bvGBT",
        "outputId": "c3742f3a-8702-4a96-a6ef-89fd7d3a198c"
      },
      "execution_count": 14,
      "outputs": [
        {
          "output_type": "stream",
          "name": "stderr",
          "text": [
            "ERROR:root:Error: Division by zero attempted.\n"
          ]
        }
      ]
    },
    {
      "cell_type": "markdown",
      "source": [
        "**15.Write a Python program that prints the content of a file and handles the case when the file is empty.**"
      ],
      "metadata": {
        "id": "zExkB-HpvTw5"
      }
    },
    {
      "cell_type": "code",
      "source": [
        "filename = 'example.txt'\n",
        "\n",
        "try:\n",
        "    with open(filename, 'r') as file:\n",
        "        content = file.read()\n",
        "        if content:\n",
        "            print(\"File content:\")\n",
        "            print(content)\n",
        "        else:\n",
        "            print(\"The file is empty.\")\n",
        "except FileNotFoundError:\n",
        "    print(f\"The file '{filename}' does not exist.\")\n",
        "except IOError as e:\n",
        "    print(f\"An I/O error occurred: {e}\")\n"
      ],
      "metadata": {
        "colab": {
          "base_uri": "https://localhost:8080/"
        },
        "id": "nis5F1ZdvRwD",
        "outputId": "fee88cf2-b69c-42fe-fb4b-b5cbeffcf3c8"
      },
      "execution_count": 15,
      "outputs": [
        {
          "output_type": "stream",
          "name": "stdout",
          "text": [
            "The file 'example.txt' does not exist.\n"
          ]
        }
      ]
    },
    {
      "cell_type": "markdown",
      "source": [
        "**16.Demonstrate how to use memory profiling to check the memory usage of a small program.**"
      ],
      "metadata": {
        "id": "KlMMyeExvfMW"
      }
    },
    {
      "cell_type": "code",
      "source": [
        "pip install memory_profiler\n"
      ],
      "metadata": {
        "colab": {
          "base_uri": "https://localhost:8080/"
        },
        "id": "m3K7u1Vjvd3T",
        "outputId": "98a4e4b1-1897-42c8-b110-839c2741471b"
      },
      "execution_count": 16,
      "outputs": [
        {
          "output_type": "stream",
          "name": "stdout",
          "text": [
            "Collecting memory_profiler\n",
            "  Downloading memory_profiler-0.61.0-py3-none-any.whl.metadata (20 kB)\n",
            "Requirement already satisfied: psutil in /usr/local/lib/python3.11/dist-packages (from memory_profiler) (5.9.5)\n",
            "Downloading memory_profiler-0.61.0-py3-none-any.whl (31 kB)\n",
            "Installing collected packages: memory_profiler\n",
            "Successfully installed memory_profiler-0.61.0\n"
          ]
        }
      ]
    },
    {
      "cell_type": "code",
      "source": [
        "from memory_profiler import profile\n",
        "\n",
        "@profile\n",
        "def my_function():\n",
        "    a = [x * 2 for x in range(100000)]\n",
        "    b = [x ** 2 for x in range(100000)]\n",
        "    del a\n",
        "    return b\n",
        "\n",
        "if __name__ == '__main__':\n",
        "    my_function()\n",
        "\n",
        "\n"
      ],
      "metadata": {
        "colab": {
          "base_uri": "https://localhost:8080/"
        },
        "id": "8p8wY16OvyGz",
        "outputId": "23c3e640-6eaf-4b1b-ea3a-dfb5740c1691"
      },
      "execution_count": 22,
      "outputs": [
        {
          "output_type": "stream",
          "name": "stdout",
          "text": [
            "ERROR: Could not find file <ipython-input-22-055bb7194721>\n",
            "NOTE: %mprun can only be used on functions defined in physical files, and not in the IPython environment.\n"
          ]
        }
      ]
    },
    {
      "cell_type": "markdown",
      "source": [
        "**17.Write a Python program to create and write a list of numbers to a file, one number per line.**"
      ],
      "metadata": {
        "id": "KPkijLPtw3wQ"
      }
    },
    {
      "cell_type": "code",
      "source": [
        "numbers = [1, 2, 3, 4, 5, 6, 7, 8, 9, 10]\n",
        "\n",
        "with open('numbers.txt', 'w') as file:\n",
        "    for number in numbers:\n",
        "        file.write(f\"{number}\\n\")\n"
      ],
      "metadata": {
        "id": "bXhoz7Zjv6oC"
      },
      "execution_count": 23,
      "outputs": []
    },
    {
      "cell_type": "markdown",
      "source": [
        "**18.How would you implement a basic logging setup that logs to a file with rotation after 1MB.**"
      ],
      "metadata": {
        "id": "4nk0iA4vxM3V"
      }
    },
    {
      "cell_type": "code",
      "source": [
        "import logging\n",
        "from logging.handlers import RotatingFileHandler\n",
        "\n",
        "# Create a logger\n",
        "logger = logging.getLogger('my_logger')\n",
        "logger.setLevel(logging.DEBUG)  # Log all levels DEBUG and above\n",
        "\n",
        "# Create a rotating file handler that rotates after 1MB and keeps 3 backups\n",
        "handler = RotatingFileHandler('app.log', maxBytes=1_000_000, backupCount=3)\n",
        "handler.setLevel(logging.DEBUG)\n",
        "\n",
        "# Create a logging format\n",
        "formatter = logging.Formatter('%(asctime)s - %(levelname)s - %(message)s')\n",
        "handler.setFormatter(formatter)\n",
        "\n",
        "# Add the handler to the logger\n",
        "logger.addHandler(handler)\n",
        "\n",
        "# Example usage\n",
        "logger.info(\"This is an informational message.\")\n",
        "logger.error(\"This is an error message.\")\n"
      ],
      "metadata": {
        "colab": {
          "base_uri": "https://localhost:8080/"
        },
        "id": "h4f0DtCNxGsf",
        "outputId": "bc1f213b-6a70-467d-ce1c-1881ed605d36"
      },
      "execution_count": 24,
      "outputs": [
        {
          "output_type": "stream",
          "name": "stderr",
          "text": [
            "INFO:my_logger:This is an informational message.\n",
            "ERROR:my_logger:This is an error message.\n"
          ]
        }
      ]
    },
    {
      "cell_type": "markdown",
      "source": [
        "**19.Write a program that handles both IndexError and KeyError using a try-except block.**"
      ],
      "metadata": {
        "id": "jVSCaPRgxYOV"
      }
    },
    {
      "cell_type": "code",
      "source": [
        "my_list = [10, 20, 30]\n",
        "my_dict = {'a': 1, 'b': 2}\n",
        "\n",
        "try:\n",
        "    # Access an index that might not exist\n",
        "    print(my_list[5])\n",
        "\n",
        "    # Access a key that might not exist\n",
        "    print(my_dict['c'])\n",
        "\n",
        "except IndexError:\n",
        "    print(\"Error: Tried to access an invalid list index.\")\n",
        "\n",
        "except KeyError:\n",
        "    print(\"Error: Tried to access a key that does not exist in the dictionary.\")\n"
      ],
      "metadata": {
        "colab": {
          "base_uri": "https://localhost:8080/"
        },
        "id": "4mZuKCzdxUAK",
        "outputId": "3e67b602-8a05-4559-b40b-85cca0f28c40"
      },
      "execution_count": 25,
      "outputs": [
        {
          "output_type": "stream",
          "name": "stdout",
          "text": [
            "Error: Tried to access an invalid list index.\n"
          ]
        }
      ]
    },
    {
      "cell_type": "markdown",
      "source": [
        "**20.How would you open a file and read its contents using a context manager in Python?**"
      ],
      "metadata": {
        "id": "zRmIF5guxiK1"
      }
    },
    {
      "cell_type": "code",
      "source": [
        "with open('filename.txt', 'r') as file:\n",
        "    content = file.read()\n",
        "    print(content)\n"
      ],
      "metadata": {
        "id": "Xs2cuBomxtrR"
      },
      "execution_count": null,
      "outputs": []
    },
    {
      "cell_type": "markdown",
      "source": [
        "**21.Write a Python program that reads a file and prints the number of occurrences of a specific word.**"
      ],
      "metadata": {
        "id": "LxXTRzJHxwxi"
      }
    },
    {
      "cell_type": "code",
      "source": [
        "filename = 'example.txt'\n",
        "word_to_count = 'python'\n",
        "\n",
        "try:\n",
        "    with open(filename, 'r') as file:\n",
        "        content = file.read().lower()  # Convert to lowercase for case-insensitive matching\n",
        "    words = content.split()\n",
        "    count = words.count(word_to_count.lower())\n",
        "    print(f\"The word '{word_to_count}' occurs {count} times in the file.\")\n",
        "except FileNotFoundError:\n",
        "    print(f\"The file '{filename}' does not exist.\")\n",
        "except IOError as e:\n",
        "    print(f\"An error occurred while reading the file: {e}\")\n"
      ],
      "metadata": {
        "colab": {
          "base_uri": "https://localhost:8080/"
        },
        "id": "0Wf2u06px4eh",
        "outputId": "652a3124-79ac-49b8-c65f-950551cdfe86"
      },
      "execution_count": 27,
      "outputs": [
        {
          "output_type": "stream",
          "name": "stdout",
          "text": [
            "The file 'example.txt' does not exist.\n"
          ]
        }
      ]
    },
    {
      "cell_type": "markdown",
      "source": [
        "**22.How can you check if a file is empty before attempting to read its contents.**"
      ],
      "metadata": {
        "id": "fq1b_cBrx-Dz"
      }
    },
    {
      "cell_type": "code",
      "source": [
        "import os\n",
        "\n",
        "filename = 'example.txt'\n",
        "\n",
        "if os.path.exists(filename):\n",
        "    if os.path.getsize(filename) > 0:\n",
        "        with open(filename, 'r') as file:\n",
        "            content = file.read()\n",
        "            print(content)\n",
        "    else:\n",
        "        print(\"The file is empty.\")\n",
        "else:\n",
        "    print(f\"The file '{filename}' does not exist.\")\n"
      ],
      "metadata": {
        "colab": {
          "base_uri": "https://localhost:8080/"
        },
        "id": "SZ603wlXx8HC",
        "outputId": "2c187f90-974b-4251-c6ef-4c7944e8e68b"
      },
      "execution_count": 28,
      "outputs": [
        {
          "output_type": "stream",
          "name": "stdout",
          "text": [
            "The file 'example.txt' does not exist.\n"
          ]
        }
      ]
    },
    {
      "cell_type": "markdown",
      "source": [
        "**23.Write a Python program that writes to a log file when an error occurs during file handling.**"
      ],
      "metadata": {
        "id": "lFDHS5P6yI6d"
      }
    },
    {
      "cell_type": "code",
      "source": [
        "import logging\n",
        "\n",
        "# Configure logging to write errors to a log file\n",
        "logging.basicConfig(filename='file_errors.log',\n",
        "                    level=logging.ERROR,\n",
        "                    format='%(asctime)s - %(levelname)s - %(message)s')\n",
        "\n",
        "filename = 'example.txt'\n",
        "\n",
        "try:\n",
        "    with open(filename, 'r') as file:\n",
        "        content = file.read()\n",
        "        print(content)\n",
        "except Exception as e:\n",
        "    logging.error(f\"Error occurred while handling the file '{filename}': {e}\")\n",
        "    print(\"An error occurred. Check 'file_errors.log' for details.\")\n"
      ],
      "metadata": {
        "colab": {
          "base_uri": "https://localhost:8080/"
        },
        "id": "N6y0KoZOyGPR",
        "outputId": "c52f0364-38e7-4765-9c45-f1aff6f71f74"
      },
      "execution_count": 29,
      "outputs": [
        {
          "output_type": "stream",
          "name": "stderr",
          "text": [
            "ERROR:root:Error occurred while handling the file 'example.txt': [Errno 2] No such file or directory: 'example.txt'\n"
          ]
        },
        {
          "output_type": "stream",
          "name": "stdout",
          "text": [
            "An error occurred. Check 'file_errors.log' for details.\n"
          ]
        }
      ]
    },
    {
      "cell_type": "code",
      "source": [],
      "metadata": {
        "id": "letDIHp6yUIa"
      },
      "execution_count": null,
      "outputs": []
    }
  ]
}